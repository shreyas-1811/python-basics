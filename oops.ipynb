{
 "cells": [
  {
   "cell_type": "markdown",
   "id": "94d7c8e4-7742-46d0-96bd-3c44a4e0c754",
   "metadata": {},
   "source": [
    "              #OOPs assingment"
   ]
  },
  {
   "cell_type": "raw",
   "id": "688fc02e-1934-4952-8d29-6ce135928040",
   "metadata": {},
   "source": [
    "\n",
    "Name-shreyas cs email-shreyaschandrashekar51@gmail.com Assingment_name=python basics drive_link=None github=[github].\n",
    "(https://github.com/shreyas-1811/python-basics/blob/main/1.ipynb)\n",
    "\n",
    "\n",
    "1. What is Object-Oriented Programming (OOP)?\n",
    "->OOP is a programming paradigm based on the concept of objects, which contain data in the form of fields (attributes) and code in the form of methods. It promotes code reuse, modularity, and abstraction.\n",
    "\n",
    "2.What is a class in OOP?\n",
    "->A class is a blueprint for creating objects. It defines a set of attributes and methods that the created objects (instances) will have.\n",
    "\n",
    "3. What is an object in OOP?\n",
    "->An object is an instance of a class. It contains real values instead of variables defined in the class.\n",
    "\n",
    "4. What is the difference between abstraction and encapsulation?\n",
    "->Abstraction hides the complex implementation and shows only the essential features.\n",
    "\n",
    "->Encapsulation binds the data and methods into a single unit and restricts direct access to some components.\n",
    "\n",
    "5. What are dunder methods in Python?\n",
    "->Dunder (double underscore) methods like __init__, __str__, and __len__ are special methods in Python used to define the behavior of objects with built-in functions.\n",
    "\n",
    "6. Explain the concept of inheritance in OOP.\n",
    "->Inheritance allows a class (child) to acquire properties and behaviors from another class (parent), promoting code reusability.\n",
    "\n",
    "7. What is polymorphism in OOP?\n",
    "->Polymorphism allows the same method or operator to behave differently in different contexts or classes.\n",
    "\n",
    "8. How is encapsulation achieved in Python?\n",
    "->Encapsulation is achieved by using private variables (prefixing with _ or __) and providing getter and setter methods.\n",
    "\n",
    "9. What is a constructor in Python?\n",
    "->A constructor is a special method (__init__) automatically called when an object is instantiated to initialize the object.\n",
    "\n",
    "10. What are class and static methods in Python?\n",
    "->Class methods use @classmethod and take cls as the first argument.\n",
    "\n",
    "->Static methods use @staticmethod and do not take self or cls.\n",
    "\n",
    "11. What is method overloading in Python?\n",
    "->Python doesn't support traditional method overloading, but similar behavior can be achieved using default arguments or *args and **args.\n",
    "\n",
    "12. What is method overriding in OOP?\n",
    "->Method overriding allows a subclass to provide a specific implementation of a method already defined in its parent class.\n",
    "\n",
    "13. What is a property decorator in Python?\n",
    "->@property is used to define methods that can be accessed like attributes, providing control over attribute access.\n",
    "\n",
    "14. Why is polymorphism important in OOP?\n",
    "->It enhances flexibility and maintainability by allowing code to work with objects of different classes through a common interface.\n",
    "\n",
    "15. What is an abstract class in Python?\n",
    "->An abstract class is a class that cannot be instantiated and typically includes one or more abstract methods that must be implemented in subclasses.\n",
    "\n",
    "16. What are the advantages of OOP?\n",
    ".Code reusability\n",
    "\n",
    ".Improved maintainability\n",
    "\n",
    ".Modularity\n",
    "\n",
    ".Encapsulation and abstraction\n",
    "\n",
    ".Easier debugging and testing\n",
    "\n",
    "17. What is the difference between a class variable and an instance variable?\n",
    "->Class variables are shared among all instances of a class.\n",
    "\n",
    "->Instance variables are unique to each object.\n",
    "\n",
    "18. What is multiple inheritance in Python?\n",
    "->It allows a class to inherit from more than one parent class, combining their features.\n",
    "\n",
    "19. Explain the purpose of __str__ and __repr__ methods in Python.\n",
    "->__str__ returns a readable string representation of an object.\n",
    "\n",
    "->__repr__ returns a developer-oriented string useful for debugging.\n",
    "\n",
    "20. What is the significance of the super() function in Python?\n",
    "->super() allows access to methods of a parent class, often used to call the parent class's constructor or methods.\n",
    "\n",
    "21. What is the significance of the __del__ method in Python?\n",
    "->__del__ is a destructor method called when an object is about to be destroyed, useful for cleanup tasks.\n",
    "\n",
    "22. What is the difference between @staticmethod and @classmethod in Python?\n",
    "->@staticmethod: does not take self or cls; behaves like a regular function inside a class.\n",
    "\n",
    "->@classmethod: takes cls as the first parameter and can access/modify class state.\n",
    "\n",
    "23. How does polymorphism work in Python with inheritance?\n",
    "->In Python, derived classes can override methods of base classes, and the method call is resolved at runtime based on the object’s type.\n",
    "\n",
    "24. What is method chaining in Python OOP?\n",
    "->Method chaining is a technique where multiple methods are called on the same object in a single line by returning self from methods.\n",
    "\n",
    "25. What is the purpose of the __call__ method in Python?\n",
    "->The __call__ method makes an object callable like a function. It allows instance objects to be used as if they were functions.\n"
   ]
  },
  {
   "cell_type": "code",
   "execution_count": 2,
   "id": "7b2c8f35-361f-431b-bb14-79cc5e21fbfe",
   "metadata": {},
   "outputs": [
    {
     "name": "stdout",
     "output_type": "stream",
     "text": [
      "Bark!\n"
     ]
    }
   ],
   "source": [
    "#1)Create a parent class Animal with a method speak() that prints a generic message. Create a child class Dog that overrides the speak() method to print \"Bark!\n",
    "class Animal:\n",
    "    def speak(self):\n",
    "        print(\"Generic animal sound\")\n",
    "\n",
    "class Dog(Animal):\n",
    "    def speak(self):\n",
    "        print(\"Bark!\")\n",
    "\n",
    "d = Dog()\n",
    "d.speak()\n"
   ]
  },
  {
   "cell_type": "code",
   "execution_count": 4,
   "id": "76f5b99b-1afb-4f61-9bdc-89706955b751",
   "metadata": {},
   "outputs": [
    {
     "name": "stdout",
     "output_type": "stream",
     "text": [
      "78.5\n"
     ]
    }
   ],
   "source": [
    "#2). Write a program to create an abstract class Shape with a method area(). Derive classes Circle and Rectangle from it and implement the area() method in both.\n",
    "from abc import ABC, abstractmethod\n",
    "\n",
    "class Shape(ABC):\n",
    "    @abstractmethod\n",
    "    def area(self):\n",
    "        pass\n",
    "\n",
    "class Circle(Shape):\n",
    "    def area(self):\n",
    "        return 3.14 * 5 * 5\n",
    "\n",
    "class Rectangle(Shape):\n",
    "    def area(self):\n",
    "        return 4 * 5\n",
    "\n",
    "c = Circle()\n",
    "print(c.area())\n"
   ]
  },
  {
   "cell_type": "code",
   "execution_count": 8,
   "id": "bcc7686d-9133-45cf-858f-eb9abe27404a",
   "metadata": {},
   "outputs": [
    {
     "name": "stdout",
     "output_type": "stream",
     "text": [
      "Battery type: Electric\n"
     ]
    }
   ],
   "source": [
    "#3)Implement a multi-level inheritance scenario where a class Vehicle has an attribute type. Derive a class Car and further derive a class ElectricCar that adds a battery attribute.\n",
    "class Vehicle:\n",
    "    def __init__(self):\n",
    "        self.type = \"Electric\"\n",
    "\n",
    "class Car(Vehicle):\n",
    "    def __init__(self):\n",
    "        super().__init__()\n",
    "        self.name = \"Tesla\"\n",
    "\n",
    "class BatteryCar(Car):\n",
    "    def battery(self):\n",
    "        print(\"Battery type:\", self.type)\n",
    "\n",
    "b = BatteryCar()\n",
    "b.battery()\n"
   ]
  },
  {
   "cell_type": "code",
   "execution_count": 10,
   "id": "b6624204-d5e7-4589-bd88-ecc9b24e28ab",
   "metadata": {},
   "outputs": [
    {
     "name": "stdout",
     "output_type": "stream",
     "text": [
      "Sparrow flies\n",
      "Penguin cannot fly\n"
     ]
    }
   ],
   "source": [
    "#4). Demonstrate polymorphism by creating a base class Bird with a method fly(). Create two derived classesSparrow and Penguin that override the fly() method.\n",
    "class Bird:\n",
    "    def fly(self):\n",
    "        print(\"Bird can fly\")\n",
    "\n",
    "class Sparrow(Bird):\n",
    "    def fly(self):\n",
    "        print(\"Sparrow flies\")\n",
    "\n",
    "class Penguin(Bird):\n",
    "    def fly(self):\n",
    "        print(\"Penguin cannot fly\")\n",
    "\n",
    "s = Sparrow()\n",
    "p = Penguin()\n",
    "s.fly()\n",
    "p.fly()\n"
   ]
  },
  {
   "cell_type": "code",
   "execution_count": 12,
   "id": "5d544017-b344-4901-808e-92ad59820acf",
   "metadata": {},
   "outputs": [
    {
     "name": "stdout",
     "output_type": "stream",
     "text": [
      "Balance: 1000\n"
     ]
    }
   ],
   "source": [
    "#5) Write a program to demonstrate encapsulation by creating a class BankAccount with private attributesbalance and methods to deposit, withdraw, and check balance.\n",
    "class BankAccount:\n",
    "    def __init__(self):\n",
    "        self.__balance = 0\n",
    "\n",
    "    def deposit(self, amount):\n",
    "        self.__balance += amount\n",
    "\n",
    "    def withdraw(self, amount):\n",
    "        self.__balance -= amount\n",
    "\n",
    "    def check_balance(self):\n",
    "        print(\"Balance:\", self.__balance)\n",
    "\n",
    "acc = BankAccount()\n",
    "acc.deposit(1000)\n",
    "acc.check_balance()\n"
   ]
  },
  {
   "cell_type": "code",
   "execution_count": 14,
   "id": "73e4c9d0-5d4e-4460-a73a-27922d2c15fd",
   "metadata": {},
   "outputs": [
    {
     "name": "stdout",
     "output_type": "stream",
     "text": [
      "Guitar is playing\n",
      "Piano is playing\n"
     ]
    }
   ],
   "source": [
    "#6). Demonstrate runtime polymorphism using a method play() in a base class Instrument. Derive classes Guitar and Piano that implement their own version of play().\n",
    "class Instrument:\n",
    "    def play(self):\n",
    "        pass\n",
    "\n",
    "class Guitar(Instrument):\n",
    "    def play(self):\n",
    "        print(\"Guitar is playing\")\n",
    "\n",
    "class Piano(Instrument):\n",
    "    def play(self):\n",
    "        print(\"Piano is playing\")\n",
    "\n",
    "g = Guitar()\n",
    "p = Piano()\n",
    "g.play()\n",
    "p.play()\n"
   ]
  },
  {
   "cell_type": "code",
   "execution_count": 16,
   "id": "7605517c-62ea-4f6e-8002-ab8fcc982158",
   "metadata": {},
   "outputs": [
    {
     "name": "stdout",
     "output_type": "stream",
     "text": [
      "8\n",
      "6\n"
     ]
    }
   ],
   "source": [
    "#7)Create a class MathOperations with a class method add_numbers() to add two numbers and a static method subtract_numbers() to subtract two numbers.\n",
    "class MathOperations:\n",
    "    def add_numbers(self, a, b):\n",
    "        return a + b\n",
    "\n",
    "    @staticmethod\n",
    "    def subtract_numbers(a, b):\n",
    "        return a - b\n",
    "\n",
    "m = MathOperations()\n",
    "print(m.add_numbers(5, 3))\n",
    "print(MathOperations.subtract_numbers(10, 4))\n"
   ]
  },
  {
   "cell_type": "code",
   "execution_count": 18,
   "id": "ae44a29e-ea7b-4815-80a6-1e2d2d52e754",
   "metadata": {},
   "outputs": [
    {
     "name": "stdout",
     "output_type": "stream",
     "text": [
      "2\n"
     ]
    }
   ],
   "source": [
    "#8)Create a class MathOperations with a class method add_numbers() to add two numbers and a static method subtract_numbers() to subtract two numbers.\n",
    "class Person:\n",
    "    count = 0\n",
    "\n",
    "    def __init__(self):\n",
    "        Person.count += 1\n",
    "\n",
    "    @classmethod\n",
    "    def total_persons(cls):\n",
    "        return cls.count\n",
    "\n",
    "p1 = Person()\n",
    "p2 = Person()\n",
    "print(Person.total_persons())\n"
   ]
  },
  {
   "cell_type": "code",
   "execution_count": 20,
   "id": "0ffcfaf9-c987-4d06-b39c-7847ee1e2bf8",
   "metadata": {},
   "outputs": [
    {
     "name": "stdout",
     "output_type": "stream",
     "text": [
      "3/4\n"
     ]
    }
   ],
   "source": [
    "#9)Write a class Fraction with attributes numerator and denominator. Override the str method to display the fraction as \"numerator/denominator\".\n",
    "class Fraction:\n",
    "    def __init__(self, num, denom):\n",
    "        self.num = num\n",
    "        self.denom = denom\n",
    "\n",
    "    def __str__(self):\n",
    "        return f\"{self.num}/{self.denom}\"\n",
    "\n",
    "f = Fraction(3, 4)\n",
    "print(f)\n"
   ]
  },
  {
   "cell_type": "code",
   "execution_count": 22,
   "id": "0fb2b6e9-9c67-40e6-810a-c8c582f4ac20",
   "metadata": {},
   "outputs": [
    {
     "name": "stdout",
     "output_type": "stream",
     "text": [
      "Vector(4, 6)\n"
     ]
    }
   ],
   "source": [
    "#10) Demonstrate operator overloading by creating a class Vector and overriding the add method to add two vectors.\n",
    "class Vector:\n",
    "    def __init__(self, x, y):\n",
    "        self.x = x\n",
    "        self.y = y\n",
    "\n",
    "    def __add__(self, other):\n",
    "        return Vector(self.x + other.x, self.y + other.y)\n",
    "\n",
    "    def __str__(self):\n",
    "        return f\"Vector({self.x}, {self.y})\"\n",
    "\n",
    "v1 = Vector(1, 2)\n",
    "v2 = Vector(3, 4)\n",
    "print(v1 + v2)\n"
   ]
  },
  {
   "cell_type": "code",
   "execution_count": 24,
   "id": "90eb5c43-4650-4643-bdf9-f3a1843b88d7",
   "metadata": {},
   "outputs": [
    {
     "name": "stdout",
     "output_type": "stream",
     "text": [
      "Hello, my name is Alice and I am 25 years old.\n"
     ]
    }
   ],
   "source": [
    "#11) Create a class Person with attributes name and age. Add a method greet() that prints \"Hello, my name is {name} and I am {age} years old.\"\n",
    "class Person:\n",
    "    def __init__(self, name, age):\n",
    "        self.name = name\n",
    "        self.age = age\n",
    "\n",
    "    def greet(self):\n",
    "        print(f\"Hello, my name is {self.name} and I am {self.age} years old.\")\n",
    "\n",
    "p = Person(\"Alice\", 25)\n",
    "p.greet()\n",
    "\n",
    "\n"
   ]
  },
  {
   "cell_type": "code",
   "execution_count": 26,
   "id": "62c62908-7fa6-4d38-8884-33756754a2c3",
   "metadata": {},
   "outputs": [
    {
     "name": "stdout",
     "output_type": "stream",
     "text": [
      "90.0\n"
     ]
    }
   ],
   "source": [
    "#12). Implement a class Student with attributes name and grades. Create a method average_grade() to compute the average of the grades.\n",
    "class Student:\n",
    "    def __init__(self, grades):\n",
    "        self.grades = grades\n",
    "\n",
    "    def average_grade(self):\n",
    "        return sum(self.grades) / len(self.grades)\n",
    "\n",
    "s = Student([80, 90, 100])\n",
    "print(s.average_grade())\n"
   ]
  },
  {
   "cell_type": "code",
   "execution_count": 28,
   "id": "d8f39b32-897b-4e95-af4c-9c02711ab49d",
   "metadata": {},
   "outputs": [
    {
     "name": "stdout",
     "output_type": "stream",
     "text": [
      "Width: 5, Height: 10\n",
      "50\n"
     ]
    }
   ],
   "source": [
    "#13). Create a class Rectangle with methods set_dimensions() to set the dimensions and area() to calculate the area.\n",
    "class Rectangle:\n",
    "    def __init__(self, width, height):\n",
    "        self.width = width\n",
    "        self.height = height\n",
    "\n",
    "    def set_dimensions(self):\n",
    "        print(f\"Width: {self.width}, Height: {self.height}\")\n",
    "\n",
    "    def area(self):\n",
    "        return self.width * self.height\n",
    "\n",
    "r = Rectangle(5, 10)\n",
    "r.set_dimensions()\n",
    "print(r.area())\n"
   ]
  },
  {
   "cell_type": "code",
   "execution_count": 30,
   "id": "5f4de6bd-b5b5-44c8-a59e-64afeeaf420f",
   "metadata": {},
   "outputs": [
    {
     "name": "stdout",
     "output_type": "stream",
     "text": [
      "3000\n"
     ]
    }
   ],
   "source": [
    "#14) Create a class Employee with a method calculate_salary() that computes the salary based on hours worked and hourly rate. Create a derived class Manager that adds a bonus to the salary\n",
    "class Employee:\n",
    "    def __init__(self, hours, rate):\n",
    "        self.hours = hours\n",
    "        self.rate = rate\n",
    "\n",
    "    def calculate_salary(self):\n",
    "        return self.hours * self.rate\n",
    "\n",
    "class Manager(Employee):\n",
    "    def calculate_salary(self):\n",
    "        return super().calculate_salary() + 1000\n",
    "\n",
    "e = Manager(40, 50)\n",
    "print(e.calculate_salary())\n"
   ]
  },
  {
   "cell_type": "code",
   "execution_count": 32,
   "id": "65602168-0053-450f-b9ab-16c4e36db864",
   "metadata": {},
   "outputs": [
    {
     "name": "stdout",
     "output_type": "stream",
     "text": [
      "300\n"
     ]
    }
   ],
   "source": [
    "#15). Create a class Product with attributes name, price, and quantity. Implement a method total_price() that calculates the total price of the product.\n",
    "class Product:\n",
    "    def __init__(self, name, price, quantity):\n",
    "        self.name = name\n",
    "        self.price = price\n",
    "        self.quantity = quantity\n",
    "\n",
    "    def total_price(self):\n",
    "        return self.price * self.quantity\n",
    "\n",
    "p = Product(\"Book\", 100, 3)\n",
    "print(p.total_price())\n"
   ]
  },
  {
   "cell_type": "code",
   "execution_count": 34,
   "id": "d7f9b709-c13a-4fca-a9fd-ad0d1623f76f",
   "metadata": {},
   "outputs": [
    {
     "name": "stdout",
     "output_type": "stream",
     "text": [
      "Moo\n"
     ]
    }
   ],
   "source": [
    "#16) Create a class Animal with an abstract method sound(). Create two derived classes Cow and Sheep that implement the sound() method.\n",
    "from abc import ABC, abstractmethod\n",
    "\n",
    "class Animal(ABC):\n",
    "    @abstractmethod\n",
    "    def sound(self):\n",
    "        pass\n",
    "\n",
    "class Cow(Animal):\n",
    "    def sound(self):\n",
    "        print(\"Moo\")\n",
    "\n",
    "class Sheep(Animal):\n",
    "    def sound(self):\n",
    "        print(\"Baa\")\n",
    "\n",
    "c = Cow()\n",
    "c.sound()\n"
   ]
  },
  {
   "cell_type": "code",
   "execution_count": 36,
   "id": "107d1a45-ef92-4ea6-9906-ca7b61612cb7",
   "metadata": {},
   "outputs": [
    {
     "name": "stdout",
     "output_type": "stream",
     "text": [
      "1984 by George Orwell, published in 1949\n"
     ]
    }
   ],
   "source": [
    "#17)Create a class Book with attributes title, author, and year_published. Add a method get_book_info() that returns a formatted string with the book's details.\n",
    "class Book:\n",
    "    def __init__(self, title, author, year, published):\n",
    "        self.title = title\n",
    "        self.author = author\n",
    "        self.year = year\n",
    "        self.published = published\n",
    "\n",
    "    def get_book_info(self):\n",
    "        return f\"{self.title} by {self.author}, published in {self.year}\"\n",
    "\n",
    "b = Book(\"1984\", \"George Orwell\", 1949, True)\n",
    "print(b.get_book_info())\n"
   ]
  },
  {
   "cell_type": "code",
   "execution_count": 38,
   "id": "11e6ec8c-b4e2-4669-8e39-b8494073646c",
   "metadata": {},
   "outputs": [
    {
     "name": "stdout",
     "output_type": "stream",
     "text": [
      "10\n"
     ]
    }
   ],
   "source": [
    "#18) Create a class House with attributes address and price. Create a derived class Mansion that adds an attribute number_of_rooms.\n",
    "class House:\n",
    "    def __init__(self, address, price):\n",
    "        self.address = address\n",
    "        self.price = price\n",
    "\n",
    "class Mansion(House):\n",
    "    def __init__(self, address, price, rooms):\n",
    "        super().__init__(address, price)\n",
    "        self.number_of_rooms = rooms\n",
    "\n",
    "m = Mansion(\"123 Street\", 500000, 10)\n",
    "print(m.number_of_rooms)\n"
   ]
  },
  {
   "cell_type": "code",
   "execution_count": null,
   "id": "434ce22a-cb80-41ca-b111-7aed3eaf6fd2",
   "metadata": {},
   "outputs": [],
   "source": []
  }
 ],
 "metadata": {
  "kernelspec": {
   "display_name": "Python 3 (ipykernel)",
   "language": "python",
   "name": "python3"
  },
  "language_info": {
   "codemirror_mode": {
    "name": "ipython",
    "version": 3
   },
   "file_extension": ".py",
   "mimetype": "text/x-python",
   "name": "python",
   "nbconvert_exporter": "python",
   "pygments_lexer": "ipython3",
   "version": "3.12.7"
  }
 },
 "nbformat": 4,
 "nbformat_minor": 5
}
