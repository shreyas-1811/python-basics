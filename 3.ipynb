{
 "cells": [
  {
   "cell_type": "markdown",
   "id": "7b3c5e5c-fab1-4143-8ced-cda791d02740",
   "metadata": {},
   "source": [
    "                                                Assingment-functions                     shreyascs\n",
    "                                                                                         github->\n",
    "\n",
    "1. What is the difference between a function and a method in Python?\n",
    "\n",
    "A function is a block of reusable code that performs a specific task and can be called independently.\n",
    "\n",
    "A method is a function that is associated with an object (usually called on an object) and can access or modify the object's internal data. In short, all methods are functions, but not all functions are methods.\n",
    "\n"
   ]
  },
  {
   "cell_type": "raw",
   "id": "5f312780-9e92-4fb4-969d-c1cca2f1b932",
   "metadata": {},
   "source": [
    "2. Explain the concept of function arguments and parameters in Python.\n",
    "\n",
    "Parameters are variables listed inside the parentheses when a function is defined.\n",
    "\n",
    "Arguments are the actual values passed to the function when it is called."
   ]
  },
  {
   "cell_type": "raw",
   "id": "8f2e74ab-0792-4924-93a9-c6a29d20b2fb",
   "metadata": {},
   "source": [
    "3. What are the different ways to define and call a function in Python?\n",
    "\n",
    "Define a function using the def keyword followed by the function name and parameters.\n",
    "\n",
    "Call a function by writing its name followed by parentheses containing any required arguments.\n",
    "\n",
    "Functions can be:\n",
    "\n",
    "Normal (using def)\n",
    "\n",
    "Anonymous (using lambda)\n",
    "\n",
    "Built-in (like len(), max())\n",
    "\n",
    "User-defined"
   ]
  },
  {
   "cell_type": "raw",
   "id": "ffcfc781-a43f-4bc6-8a05-2e267aee8b07",
   "metadata": {},
   "source": [
    "4. What is the purpose of the return statement in a Python function?\n",
    "\n",
    "The return statement is used to exit a function and hand back a value to the caller.\n",
    "\n",
    "Without return, a function returns None by default.\n",
    "\n",
    "It allows the function's output to be stored or used in expressions."
   ]
  },
  {
   "cell_type": "raw",
   "id": "5d5c620d-c5b4-4e8e-a3c5-42529982b8f9",
   "metadata": {},
   "source": [
    "5. What are iterators in Python and how do they differ from iterables?\n",
    "\n",
    "An iterable is any Python object that can return its elements one at a time (like lists, strings, tuples).\n",
    "\n",
    "An iterator is an object that represents a stream of data; it is obtained from an iterable using the iter() function and produces elements using the next() function.\n",
    "\n",
    "Iterators keep track of where they are in the iteration, while iterables do not."
   ]
  },
  {
   "cell_type": "raw",
   "id": "358da274-889c-4acf-9617-9f06b2d596ac",
   "metadata": {},
   "source": [
    "6. Explain the concept of generators in Python and how they are defined.\n",
    "\n",
    "Generators are special functions that return an iterator object where values are produced lazily (on demand) using the yield keyword instead of return.\n",
    "\n",
    "They are defined like normal functions but use yield whenever a value needs to be returned."
   ]
  },
  {
   "cell_type": "raw",
   "id": "a01025b2-a378-431f-8165-b41134312bf7",
   "metadata": {},
   "source": [
    "7. What are the advantages of using generators over regular functions?\n",
    "\n",
    "Memory efficient: They don't store all values in memory at once.\n",
    "\n",
    "Faster for large data sets as values are produced one by one.\n",
    "\n",
    "Simple syntax for creating iterators.\n",
    "\n",
    "Lazy evaluation: Values are generated only when needed."
   ]
  },
  {
   "cell_type": "raw",
   "id": "f4d45e1d-1095-44f5-bf0e-366d0f4226d8",
   "metadata": {},
   "source": [
    "8. What is a lambda function in Python and when is it typically used?\n",
    "\n",
    "A lambda function is a small anonymous function defined with the lambda keyword.\n",
    "\n",
    "It can have any number of arguments but only one expression.\n",
    "\n",
    "It is typically used when a small function is needed for a short period and defining a full def function would be unnecessary.\n",
    "\n"
   ]
  },
  {
   "cell_type": "raw",
   "id": "96d770d4-31b8-4928-9df7-294e315ac86c",
   "metadata": {},
   "source": [
    "9. Explain the purpose and usage of the map() function in Python.\n",
    "\n",
    "map() applies a given function to each item of an iterable (like a list) and returns a new iterable (a map object).\n",
    "\n",
    "It is used to transform data without writing loops."
   ]
  },
  {
   "cell_type": "raw",
   "id": "3f97cae9-cfa2-4f4f-b9a3-548b80571945",
   "metadata": {},
   "source": [
    "10. What is the difference between map(), reduce(), and filter() functions in Python?\n",
    "\n",
    "map(): Applies a function to every item in an iterable and returns a map object (transformation).\n",
    "\n",
    "filter(): Applies a function that returns True/False and keeps only the elements for which the function returns True (selection).\n",
    "\n",
    "reduce(): Applies a rolling computation to pairs of elements and reduces the iterable to a single cumulative value (aggregation).\n",
    "\n"
   ]
  },
  {
   "cell_type": "markdown",
   "id": "f7c45824-3d42-42ad-b00d-cac56976ba7c",
   "metadata": {},
   "source": [
    "Practical questions"
   ]
  },
  {
   "cell_type": "code",
   "execution_count": 18,
   "id": "8e1ef89a-68e8-4264-a728-6335b56a9678",
   "metadata": {},
   "outputs": [
    {
     "data": {
      "text/plain": [
       "6"
      ]
     },
     "execution_count": 18,
     "metadata": {},
     "output_type": "execute_result"
    }
   ],
   "source": [
    "def sum_of_even(numbers):\n",
    "    return sum(num for num in numbers if num % 2 == 0)\n",
    "sum_of_even([1,2,3,4])\n"
   ]
  },
  {
   "cell_type": "code",
   "execution_count": 24,
   "id": "5f86fd9e-8954-4bc4-b8f4-267a713d0b8b",
   "metadata": {},
   "outputs": [
    {
     "data": {
      "text/plain": [
       "'sayerhs'"
      ]
     },
     "execution_count": 24,
     "metadata": {},
     "output_type": "execute_result"
    }
   ],
   "source": [
    "def reverse_string(s):\n",
    "    return s[::-1]\n",
    "reverse_string(\"shreyas\")\n"
   ]
  },
  {
   "cell_type": "code",
   "execution_count": 28,
   "id": "efe600d9-7e86-4201-a719-fb79bf65c809",
   "metadata": {},
   "outputs": [
    {
     "data": {
      "text/plain": [
       "[1, 4, 9, 16]"
      ]
     },
     "execution_count": 28,
     "metadata": {},
     "output_type": "execute_result"
    }
   ],
   "source": [
    "def square_list(numbers):\n",
    "    return [num ** 2 for num in numbers]\n",
    "square_list([1,2,3,4])"
   ]
  },
  {
   "cell_type": "code",
   "execution_count": 30,
   "id": "bd4d1d81-e395-435c-af88-64c88e32fc5f",
   "metadata": {},
   "outputs": [
    {
     "data": {
      "text/plain": [
       "False"
      ]
     },
     "execution_count": 30,
     "metadata": {},
     "output_type": "execute_result"
    }
   ],
   "source": [
    "def is_prime(n):\n",
    "    if n < 2:\n",
    "        return False\n",
    "    for i in range(2, int(n**0.5) + 1):\n",
    "        if n % i == 0:\n",
    "            return False\n",
    "    return True\n",
    "is_prime(20)"
   ]
  },
  {
   "cell_type": "code",
   "execution_count": 44,
   "id": "4686c369-60f1-4ba0-8fa8-e59f625d46e0",
   "metadata": {},
   "outputs": [
    {
     "data": {
      "text/plain": [
       "(0, 1, 1, 2, 3)"
      ]
     },
     "execution_count": 44,
     "metadata": {},
     "output_type": "execute_result"
    }
   ],
   "source": [
    "def fib(n):\n",
    "    a=0\n",
    "    b=1\n",
    "    for i in range(n):\n",
    "        yield a\n",
    "        a,b=b,a+b\n",
    "f=fib(10)\n",
    "next(f),next(f),next(f),next(f),next(f)"
   ]
  },
  {
   "cell_type": "code",
   "execution_count": 64,
   "id": "09bcafdd-389c-4917-92a0-c8618422ccc7",
   "metadata": {},
   "outputs": [
    {
     "data": {
      "text/plain": [
       "(1, 2, 4, 8)"
      ]
     },
     "execution_count": 64,
     "metadata": {},
     "output_type": "execute_result"
    }
   ],
   "source": [
    "def powers_of_two(max_exponent):\n",
    "    for i in range(max_exponent + 1):\n",
    "        yield 2 ** i\n",
    "p=powers_of_two(4)\n",
    "next(p),next(p),next(p),next(p)"
   ]
  },
  {
   "cell_type": "code",
   "execution_count": 68,
   "id": "5f2766f9-8357-4607-9d57-8ba6544a764b",
   "metadata": {},
   "outputs": [],
   "source": [
    "def read_file_line_by_line(filename):\n",
    "    with open(filename, 'r') as file:\n",
    "        for line in file:\n",
    "            yield line.strip()\n"
   ]
  },
  {
   "cell_type": "code",
   "execution_count": 70,
   "id": "d851f817-310e-4d6f-9526-7279c39d1763",
   "metadata": {},
   "outputs": [
    {
     "name": "stdout",
     "output_type": "stream",
     "text": [
      "[(4, 1), (2, 3), (1, 5)]\n"
     ]
    }
   ],
   "source": [
    "tuples_list = [(1, 5), (2, 3), (4, 1)]\n",
    "sorted_list = sorted(tuples_list, key=lambda x: x[1])\n",
    "print(sorted_list)\n"
   ]
  },
  {
   "cell_type": "code",
   "execution_count": 72,
   "id": "ae0f3374-9e3c-458f-a798-08a2082c8ced",
   "metadata": {},
   "outputs": [
    {
     "name": "stdout",
     "output_type": "stream",
     "text": [
      "[32.0, 50.0, 68.0, 86.0]\n"
     ]
    }
   ],
   "source": [
    "celsius = [0, 10, 20, 30]\n",
    "fahrenheit = list(map(lambda c: (c * 9/5) + 32, celsius))\n",
    "print(fahrenheit)\n"
   ]
  },
  {
   "cell_type": "code",
   "execution_count": 84,
   "id": "9ffa6673-05d6-4796-a449-1a5a24f34778",
   "metadata": {},
   "outputs": [],
   "source": [
    "def remove_vowel(s):\n",
    "    vowel='aeiou'\n",
    "    return list(filter(lambda x:x not in vowel,vowel))\n"
   ]
  },
  {
   "cell_type": "code",
   "execution_count": 86,
   "id": "6a9103da-f0ed-4f97-9377-a62ea240d933",
   "metadata": {},
   "outputs": [
    {
     "name": "stdout",
     "output_type": "stream",
     "text": [
      "[(34587, 163.8), (98762, 284.0), (77226, 108.85000000000001), (88112, 84.97)]\n"
     ]
    }
   ],
   "source": [
    "orders = [\n",
    "    [34587, \"Learning Python, Mark Lutz\", 4, 40.95],\n",
    "    [98762, \"Programming Python, Mark Lutz\", 5, 56.80],\n",
    "    [77226, \"Head First Python, Paul Barry\", 3, 32.95],\n",
    "    [88112, \"Einführung in Python3, Bernd Klein\", 3, 24.99]\n",
    "]\n",
    "\n",
    "# Calculate (order number, total amount)\n",
    "result = list(map(lambda order: (order[0], order[2] * order[3] if order[2]*order[3] > 100 else order[2]*order[3] + 10), orders))\n",
    "print(result)\n"
   ]
  },
  {
   "cell_type": "code",
   "execution_count": null,
   "id": "c1b4e8d5-ed93-487d-9c32-970116ffee56",
   "metadata": {},
   "outputs": [],
   "source": []
  }
 ],
 "metadata": {
  "kernelspec": {
   "display_name": "Python 3 (ipykernel)",
   "language": "python",
   "name": "python3"
  },
  "language_info": {
   "codemirror_mode": {
    "name": "ipython",
    "version": 3
   },
   "file_extension": ".py",
   "mimetype": "text/x-python",
   "name": "python",
   "nbconvert_exporter": "python",
   "pygments_lexer": "ipython3",
   "version": "3.12.7"
  }
 },
 "nbformat": 4,
 "nbformat_minor": 5
}
