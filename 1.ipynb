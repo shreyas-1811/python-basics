{
 "cells": [
  {
   "cell_type": "markdown",
   "id": "07763701-9adb-4a62-aacf-84c947db0569",
   "metadata": {
    "jupyter": {
     "source_hidden": true
    }
   },
   "source": [
    "                                #Python basics assingment\n",
    "                                "
   ]
  },
  {
   "cell_type": "markdown",
   "id": "bd07dced-71b6-4e58-b4ce-422e53c57261",
   "metadata": {},
   "source": [
    "Name-shreyas cs\n",
    "email-shreyaschandrashekar51@gmail.com\n",
    "Assingment_name=python basics\n",
    "drive_link=None\n",
    "github="
   ]
  },
  {
   "cell_type": "raw",
   "id": "1a341daa-8452-4129-ad52-d32e909056ea",
   "metadata": {},
   "source": [
    "1) What is Python, and why is it popular ?\n",
    "->   Python is a high-level, interpreted programming language known for its simplicity and readability.\n",
    "It is popular because:\n",
    "\n",
    "It has simple syntax, making it beginner-friendly.\n",
    "\n",
    "It supports multiple programming paradigms (OOP, procedural, functional).\n",
    "\n",
    "It has a vast library ecosystem (NumPy, Django, Pandas, etc.).\n",
    "\n",
    "It is widely used in web development, data science, automation, AI, and more.\n",
    "\n",
    "2)What is an interpreter in Python ?\n",
    "->  An interpreter is a program that executes Python code line by line. It reads, processes, and runs code without compiling it into machine code beforehand. Python uses an interpreter to run .py files.\n",
    "\n",
    "3)What are pre-defined keywords in Python \n",
    "-> Pre-defined keywords are reserved words in Python that have special meaning. They cannot be used as variable names or identifiers. Examples: if, else, for, True, def, return.\n",
    "\n",
    "4)Can keywords be used as variable names ?\n",
    "->  No, keywords cannot be used as variable names because they are reserved by the Python language for specific purposes.\n",
    "\n",
    "5)What is mutability in Python ?\n",
    "->  Mutability refers to whether an object’s value can be changed after it is created. Mutable objects can be altered (e.g., lists), while immutable ones cannot (e.g., tuples, strings).\n",
    "\n",
    "6)Why are lists mutable, but tuples are immutable ?\n",
    "->  Lists are mutable because they are designed to be dynamic, allowing addition, removal, and modification of elements. Tuples are immutable by design to ensure data integrity and are often used for fixed data collections.\n",
    "\n",
    "7)What is the difference between “==” and “is” operators in Python ?\n",
    "->  . == checks if two variables have equal values.\n",
    "\n",
    "    .is checks if two variables point to the same memory location (i.e., identity).\n",
    "\n",
    "8) What are logical operators in Python ?\n",
    "->  Logical operators are used to combine conditional statements:\n",
    "\n",
    "  and: True if both conditions are true.\n",
    "\n",
    "  or: True if at least one condition is true.\n",
    "\n",
    "  not: Reverses the result.\n",
    "\n",
    "9)What is type casting in Python ?\n",
    "->  Type casting is converting one data type to another. For example, converting a string \"5\" to an integer using int(\"5\").\n",
    "\n",
    "10) What is the difference between implicit and explicit type casting ?\n",
    "->  Implicit: Python automatically converts types.\n",
    "Example: 5 + 3.0 → result is 8.0 (int + float = float).\n",
    "\n",
    "Explicit: You manually convert using functions like int(), float(), str().\n",
    "\n",
    "11) What is the purpose of conditional statements in Python ?\n",
    "->  Conditional statements allow the program to make decisions and execute different blocks of code based on conditions (if, elif, else).\n",
    "\n",
    "12) How does the elif statement work ?\n",
    "-> elif (short for \"else if\") allows checking multiple conditions. Python checks each condition in order and executes the first true one, skipping the rest.\n",
    "\n",
    "13)What is the difference between for and while loops ?\n",
    "->  for loop is used when you know the number of iterations (e.g., iterating over a list or range).\n",
    "\n",
    "while loop is used when you don’t know how many times to loop; it runs until a condition becomes false.\n",
    "\n",
    "14) Describe a scenario where a while loop is more suitable than a for loop?\n",
    " -> Example: Waiting for user input until they enter the correct password. Since you don't know how many attempts it will take, a while loop is more appropriate.\n",
    "\n",
    "\n"
   ]
  },
  {
   "cell_type": "markdown",
   "id": "7ad82c5c-28de-4240-b10d-6d2c40388569",
   "metadata": {},
   "source": [
    "Practical questions"
   ]
  },
  {
   "cell_type": "raw",
   "id": "a1e539f3-3d89-4a65-859e-08c0b8963944",
   "metadata": {},
   "source": [
    "1)Write a Python program to print \"Hello, World\" ?"
   ]
  },
  {
   "cell_type": "code",
   "execution_count": 6,
   "id": "e223ef3e-c133-4ba2-a7ff-1815bafab140",
   "metadata": {},
   "outputs": [
    {
     "name": "stdout",
     "output_type": "stream",
     "text": [
      "Hello,World!\n"
     ]
    }
   ],
   "source": [
    "print(\"Hello,World!\")"
   ]
  },
  {
   "cell_type": "raw",
   "id": "0c426baf-d2ac-4df4-b27d-b77a870be011",
   "metadata": {},
   "source": [
    "2)Write a Python program that displays your name and age?"
   ]
  },
  {
   "cell_type": "code",
   "execution_count": 10,
   "id": "1a0e450a-b5c9-48f9-bcdb-cc0f53ff9192",
   "metadata": {},
   "outputs": [
    {
     "name": "stdout",
     "output_type": "stream",
     "text": [
      "Name: Shreyas\n",
      "Age: 21\n"
     ]
    }
   ],
   "source": [
    "name = \"Shreyas\"\n",
    "age = 21\n",
    "print(\"Name:\", name)\n",
    "print(\"Age:\", age)"
   ]
  },
  {
   "cell_type": "raw",
   "id": "6ea36a05-fa75-4b83-9ab9-244c7b21a66b",
   "metadata": {},
   "source": [
    "3)Write code to print all the pre-defined keywords in Python using the keyword library?"
   ]
  },
  {
   "cell_type": "code",
   "execution_count": 12,
   "id": "b172a8e0-521b-41f5-b986-208ab013a5b8",
   "metadata": {},
   "outputs": [
    {
     "name": "stdout",
     "output_type": "stream",
     "text": [
      "\n",
      "Here is a list of the Python keywords.  Enter any keyword to get more help.\n",
      "\n",
      "False               class               from                or\n",
      "None                continue            global              pass\n",
      "True                def                 if                  raise\n",
      "and                 del                 import              return\n",
      "as                  elif                in                  try\n",
      "assert              else                is                  while\n",
      "async               except              lambda              with\n",
      "await               finally             nonlocal            yield\n",
      "break               for                 not                 \n",
      "\n"
     ]
    }
   ],
   "source": [
    "help('keywords')"
   ]
  },
  {
   "cell_type": "raw",
   "id": "a549d933-2779-4ecb-a54f-8b5e2f904ae0",
   "metadata": {},
   "source": [
    "4)Write a program that checks if a given word is a Python keyword?"
   ]
  },
  {
   "cell_type": "code",
   "execution_count": 16,
   "id": "3e116abb-492d-4953-810f-36fb03953dce",
   "metadata": {},
   "outputs": [
    {
     "name": "stdin",
     "output_type": "stream",
     "text": [
      "Enter a word:  True\n"
     ]
    },
    {
     "name": "stdout",
     "output_type": "stream",
     "text": [
      "True is a Python keyword.\n"
     ]
    }
   ],
   "source": [
    "import keyword\n",
    "\n",
    "word = input(\"Enter a word: \")\n",
    "if keyword.iskeyword(word):\n",
    "    print(f\"{word} is a Python keyword.\")\n",
    "else:\n",
    "    print(f\"{word} is not a Python keyword.\")"
   ]
  },
  {
   "cell_type": "raw",
   "id": "11fc3601-3d61-4dad-8e69-e2e2c2c1e70e",
   "metadata": {},
   "source": [
    "5) Create a list and tuple in Python, and demonstrate how attempting to change an element works differently\n",
    "for each.?"
   ]
  },
  {
   "cell_type": "code",
   "execution_count": 18,
   "id": "90c2b2b2-9cc5-452c-866a-4ebcd6494ea3",
   "metadata": {},
   "outputs": [
    {
     "name": "stdout",
     "output_type": "stream",
     "text": [
      "Tuples are immutable: 'tuple' object does not support item assignment\n"
     ]
    }
   ],
   "source": [
    "# List (mutable)\n",
    "my_list = [1, 2, 3]\n",
    "my_list[0] = 10  # This works\n",
    "\n",
    "# Tuple (immutable)\n",
    "my_tuple = (1, 2, 3)\n",
    "try:\n",
    "    my_tuple[0] = 10  # This will raise an error\n",
    "except TypeError as e:\n",
    "    print(\"Tuples are immutable:\", e)"
   ]
  },
  {
   "cell_type": "raw",
   "id": "86234879-1377-45de-9e5c-51358d639b9b",
   "metadata": {},
   "source": [
    "6) Write a function to demonstrate the behavior of mutable and immutable arguments.?"
   ]
  },
  {
   "cell_type": "code",
   "execution_count": 22,
   "id": "7e64ae14-14f3-404a-943b-4dff5150ae1b",
   "metadata": {},
   "outputs": [
    {
     "name": "stdout",
     "output_type": "stream",
     "text": [
      "List after function call: [1, 2, 3, 100]\n",
      "Number after function call: 15\n"
     ]
    }
   ],
   "source": [
    "def modify_list(mylist):\n",
    "    mylist.append(100)  # list is mutable\n",
    "\n",
    "def modify_number(num):\n",
    "    num += 10  # int is immutable\n",
    "    return num\n",
    "\n",
    "lst = [1, 2, 3]\n",
    "n = 5\n",
    "\n",
    "modify_list(lst)\n",
    "new_n = modify_number(n)\n",
    "\n",
    "print(\"List after function call:\", lst)\n",
    "print(\"Number after function call:\", new_n)"
   ]
  },
  {
   "cell_type": "raw",
   "id": "71f3f8f6-7753-4b6b-872b-9fe2355e483a",
   "metadata": {},
   "source": [
    "7) Write a program that performs basic arithmetic operations on two user-input numbers.?"
   ]
  },
  {
   "cell_type": "code",
   "execution_count": 24,
   "id": "3d1f87c1-2065-4925-9a8e-979e28c8558f",
   "metadata": {},
   "outputs": [
    {
     "name": "stdin",
     "output_type": "stream",
     "text": [
      "Enter first number:  2\n",
      "Enter second number:  4\n"
     ]
    },
    {
     "name": "stdout",
     "output_type": "stream",
     "text": [
      "Addition: 6\n",
      "Subtraction: -2\n",
      "Multiplication: 8\n",
      "Division: 0.5\n"
     ]
    }
   ],
   "source": [
    "a = int(input(\"Enter first number: \"))\n",
    "b = int(input(\"Enter second number: \"))\n",
    "\n",
    "print(\"Addition:\", a + b)\n",
    "print(\"Subtraction:\", a - b)\n",
    "print(\"Multiplication:\", a * b)\n",
    "print(\"Division:\", a / b)"
   ]
  },
  {
   "cell_type": "raw",
   "id": "e5687a4f-33d9-4e18-83b3-2b520c976b94",
   "metadata": {},
   "source": [
    "8)Write a program to demonstrate the use of logical operators.?"
   ]
  },
  {
   "cell_type": "code",
   "execution_count": 26,
   "id": "5a042f70-e3bb-45c1-b1fd-9c2b2b657f37",
   "metadata": {},
   "outputs": [
    {
     "name": "stdout",
     "output_type": "stream",
     "text": [
      "a and b: False\n",
      "a or b: True\n",
      "not a: False\n"
     ]
    }
   ],
   "source": [
    "a = True\n",
    "b = False\n",
    "\n",
    "print(\"a and b:\", a and b)\n",
    "print(\"a or b:\", a or b)\n",
    "print(\"not a:\", not a)"
   ]
  },
  {
   "cell_type": "raw",
   "id": "7f503d10-4edc-4542-b01a-0d51205d6a4b",
   "metadata": {},
   "source": [
    "9)Write a Python program to convert user input from string to integer, float, and boolean types?"
   ]
  },
  {
   "cell_type": "code",
   "execution_count": 28,
   "id": "a1ad92b2-39cd-4997-816a-059e9b80a1a2",
   "metadata": {},
   "outputs": [
    {
     "name": "stdin",
     "output_type": "stream",
     "text": [
      "Enter a value:  1\n"
     ]
    },
    {
     "name": "stdout",
     "output_type": "stream",
     "text": [
      "Integer: 1\n",
      "Float: 1.0\n",
      "Boolean: True\n"
     ]
    }
   ],
   "source": [
    "value = input(\"Enter a value: \")\n",
    "\n",
    "int_value = int(value)\n",
    "float_value = float(value)\n",
    "bool_value = bool(value)\n",
    "\n",
    "print(\"Integer:\", int_value)\n",
    "print(\"Float:\", float_value)\n",
    "print(\"Boolean:\", bool_value)"
   ]
  },
  {
   "cell_type": "raw",
   "id": "2a0067fa-1f99-43fa-8c02-ecfc131b33b1",
   "metadata": {},
   "source": [
    "10)Write code to demonstrate type casting with list elements.?"
   ]
  },
  {
   "cell_type": "code",
   "execution_count": 30,
   "id": "9838db32-9266-44d0-8339-45a5d523b8ed",
   "metadata": {},
   "outputs": [
    {
     "name": "stdout",
     "output_type": "stream",
     "text": [
      "String List: ['1', '2', '3']\n",
      "Integer List: [1, 2, 3]\n"
     ]
    }
   ],
   "source": [
    "str_list = [\"1\", \"2\", \"3\"]\n",
    "int_list = [int(x) for x in str_list]\n",
    "\n",
    "print(\"String List:\", str_list)\n",
    "print(\"Integer List:\", int_list)"
   ]
  },
  {
   "cell_type": "raw",
   "id": "e3efa40e-0d04-4ef2-8339-f35e916ac623",
   "metadata": {},
   "source": [
    "11)Write a program that checks if a number is positive, negative, or zero.?"
   ]
  },
  {
   "cell_type": "code",
   "execution_count": 32,
   "id": "76b24297-490a-496a-b6f9-0d1241aa4ca0",
   "metadata": {},
   "outputs": [
    {
     "name": "stdin",
     "output_type": "stream",
     "text": [
      "Enter a number:  11\n"
     ]
    },
    {
     "name": "stdout",
     "output_type": "stream",
     "text": [
      "Positive\n"
     ]
    }
   ],
   "source": [
    "num = float(input(\"Enter a number: \"))\n",
    "\n",
    "if num > 0:\n",
    "    print(\"Positive\")\n",
    "elif num < 0:\n",
    "    print(\"Negative\")\n",
    "else:\n",
    "    print(\"Zero\")"
   ]
  },
  {
   "cell_type": "raw",
   "id": "342294d3-80c7-4eb5-b814-22f940c706e8",
   "metadata": {},
   "source": [
    "12)Write a for loop to print numbers from 1 to 10?"
   ]
  },
  {
   "cell_type": "code",
   "execution_count": 34,
   "id": "2b31d00f-f69c-4d5a-9de2-9085bf789cac",
   "metadata": {},
   "outputs": [
    {
     "name": "stdout",
     "output_type": "stream",
     "text": [
      "1\n",
      "2\n",
      "3\n",
      "4\n",
      "5\n",
      "6\n",
      "7\n",
      "8\n",
      "9\n",
      "10\n"
     ]
    }
   ],
   "source": [
    "for i in range(1,11,1):\n",
    "    print(i)"
   ]
  },
  {
   "cell_type": "raw",
   "id": "3f2e171a-230b-4e74-ab4a-17a154930087",
   "metadata": {},
   "source": [
    "13)Write a Python program to find the sum of all even numbers between 1 and 50?"
   ]
  },
  {
   "cell_type": "code",
   "execution_count": 36,
   "id": "919029ff-bb04-447d-9f30-74382da355fa",
   "metadata": {},
   "outputs": [
    {
     "name": "stdout",
     "output_type": "stream",
     "text": [
      "48\n"
     ]
    }
   ],
   "source": [
    "for i in range(2,50,2):\n",
    "    sum=0;\n",
    "    sum=sum+i\n",
    "print(sum)"
   ]
  },
  {
   "cell_type": "raw",
   "id": "63afd7b7-3e3f-4506-9872-e720fab5f40d",
   "metadata": {},
   "source": [
    "14) Write a program to reverse a string using a while loop?"
   ]
  },
  {
   "cell_type": "code",
   "execution_count": 38,
   "id": "6d5bf073-0603-496b-98ea-6b0229571ba8",
   "metadata": {},
   "outputs": [
    {
     "name": "stdin",
     "output_type": "stream",
     "text": [
      "Enter a string:  shreyas\n"
     ]
    },
    {
     "name": "stdout",
     "output_type": "stream",
     "text": [
      "Reversed String: sayerhs\n"
     ]
    }
   ],
   "source": [
    "text = input(\"Enter a string: \")\n",
    "reversed_text = \"\"\n",
    "i = len(text) - 1\n",
    "\n",
    "while i >= 0:\n",
    "    reversed_text += text[i]\n",
    "    i -= 1\n",
    "\n",
    "print(\"Reversed String:\", reversed_text)"
   ]
  },
  {
   "cell_type": "raw",
   "id": "956be1e7-1711-4f3b-a6be-c8a9e5739463",
   "metadata": {},
   "source": [
    "15) Write a Python program to calculate the factorial of a number provided by the user using a while loop.?"
   ]
  },
  {
   "cell_type": "code",
   "execution_count": 40,
   "id": "2e2a7bca-2a77-43c8-a0a8-419f9a9e21ec",
   "metadata": {},
   "outputs": [
    {
     "name": "stdin",
     "output_type": "stream",
     "text": [
      "Enter a number:  4\n"
     ]
    },
    {
     "name": "stdout",
     "output_type": "stream",
     "text": [
      "Factorial of 4 is 24\n"
     ]
    }
   ],
   "source": [
    "num = int(input(\"Enter a number: \"))\n",
    "\n",
    "if num < 0:\n",
    "    print(\"Factorial does not exist for negative numbers.\")\n",
    "elif num == 0:\n",
    "    print(\"Factorial of 0 is 1.\")\n",
    "else:\n",
    "    factorial = 1\n",
    "    i = 1\n",
    "    while i <= num:\n",
    "        factorial *= i\n",
    "        i += 1\n",
    "    print(f\"Factorial of {num} is {factorial}\")"
   ]
  },
  {
   "cell_type": "code",
   "execution_count": null,
   "id": "5c8c1c58-2a88-4a0c-82f2-865cb361f13c",
   "metadata": {},
   "outputs": [],
   "source": []
  }
 ],
 "metadata": {
  "kernelspec": {
   "display_name": "Python 3 (ipykernel)",
   "language": "python",
   "name": "python3"
  },
  "language_info": {
   "codemirror_mode": {
    "name": "ipython",
    "version": 3
   },
   "file_extension": ".py",
   "mimetype": "text/x-python",
   "name": "python",
   "nbconvert_exporter": "python",
   "pygments_lexer": "ipython3",
   "version": "3.12.7"
  }
 },
 "nbformat": 4,
 "nbformat_minor": 5
}
