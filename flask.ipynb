{
 "cells": [
  {
   "cell_type": "markdown",
   "id": "377ed1a8-4c51-40f4-b6d2-49314e2c7337",
   "metadata": {},
   "source": [
    " Name-shreyas cs email-shreyaschandrashekar51@gmail.com Assingment_name=python basics drive_link=None github=[github].(https://github.com/shreyas-1811/python-basics/blob/main/1.ipynb)\n",
    "\n",
    " 1)What is a RESTful API?\n",
    " A RESTful API is an application programming interface that adheres to the principles of REST architecture, using standard HTTP methods to perform operations on resources.\n",
    "\n",
    "2)Explain the concept of API specification.\n",
    "An API specification is a detailed document that defines how an API behaves, including its endpoints, methods, parameters, request/response structures, and authentication methods.\n",
    "\n",
    "3)What is Flask, and why is it popular for building APIs?\n",
    "Flask is a lightweight and flexible Python web framework. It is popular for building APIs due to its simplicity, minimalism, and extensive support through extensions.\n",
    "\n",
    "4)What is routing in Flask?\n",
    "Routing in Flask refers to defining URL paths that trigger specific functions, allowing the app to respond to different HTTP requests.\n",
    "\n",
    "5) How do you create a simple Flask application?\n",
    "By initializing a Flask object and defining route(s) with associated functions to handle HTTP requests.\n",
    "\n",
    "6)What are HTTP methods used in RESTful APIs?\n",
    "Common methods include GET (retrieve), POST (create), PUT (update), DELETE (remove), PATCH (partial update), and OPTIONS (describe available methods).\n",
    "\n",
    "7)What is the purpose of the @app.route() decorator in Flask?\n",
    "It maps a specific URL path to a function, allowing Flask to trigger that function when the URL is accessed.\n",
    "\n",
    "8)What is the difference between GET and POST HTTP methods?\n",
    "GET is used to request data from the server, while POST is used to send data to the server for processing.\n",
    "\n",
    "9)How do you handle errors in Flask APIs?\n",
    "Errors can be handled using Flask's error handlers, which allow developers to define custom responses for different error codes.\n",
    "\n",
    "10)How do you connect Flask to a SQL database?\n",
    "By configuring the database URI in the app settings and using an ORM like Flask-SQLAlchemy to manage database interactions.\n",
    "\n",
    "11)What is the role of Flask-SQLAlchemy?\n",
    "It simplifies database operations by integrating SQLAlchemy ORM with Flask, allowing developers to interact with databases using Python classes.\n",
    "\n",
    "12)What are Flask blueprints, and how are they useful?\n",
    "Blueprints are modular components in Flask that help organize routes and logic into separate units, promoting cleaner and more maintainable code.\n",
    "\n",
    "13)What is the purpose of Flask’s request object?\n",
    "The request object gives access to incoming request data such as form inputs, JSON payloads, query parameters, and headers.\n",
    "\n",
    "14)How do you create a RESTful API endpoint using Flask?\n",
    "By defining a route and associating it with a function that handles a specific HTTP method and returns data, usually in JSON format.\n",
    "\n",
    "15)What is the purpose of Flask’s jsonify() function?\n",
    "It converts Python dictionaries and lists into JSON-formatted HTTP responses with appropriate headers.\n",
    "\n",
    "16)Explain Flask’s url_for() function.\n",
    "It generates dynamic URLs for Flask routes based on function names, which helps avoid hardcoding URLs and supports easier maintenance.\n",
    "\n",
    "17)How does Flask handle static files (CSS, JavaScript, etc.)?\n",
    "Flask serves static files from a default static directory and makes them accessible via a specific URL path.\n",
    "\n",
    "18)What is an API specification, and how does it help in building a Flask API?\n",
    "An API specification defines the structure and behavior of an API, guiding development and ensuring consistent communication between systems.\n",
    "\n",
    "19). What are HTTP status codes, and why are they important in a Flask API?\n",
    "HTTP status codes indicate the result of an HTTP request, helping clients understand whether operations succeeded, failed, or require attention.\n",
    "\n",
    "20)How do you handle POST requests in Flask?\n",
    "By defining a route that accepts the POST method and processing incoming data using the request object.\n",
    "\n",
    "21)How would you secure a Flask API?\n",
    "By implementing measures like HTTPS, authentication, input validation, rate limiting, and secure headers.\n",
    "\n",
    "22). What is the significance of the Flask-RESTful extension?\n",
    "Flask-RESTful simplifies API development by providing tools to structure resources, manage routing, and handle request parsing.\n",
    "\n",
    "23)What is the role of Flask’s session object?\n",
    "The session object stores data specific to a user across requests, enabling features like login persistence and user tracking.\n",
    "\n"
   ]
  },
  {
   "cell_type": "code",
   "execution_count": 4,
   "id": "938ae6e8-e2fb-4600-8a35-4aa9f4bc95cd",
   "metadata": {},
   "outputs": [],
   "source": [
    "#1)How do you create a basic Flask application\n",
    "from flask import Flask\n",
    "\n",
    "app = Flask(__name__)\n",
    "\n",
    "@app.route('/')\n",
    "def home():\n",
    "    return \"Hello, Flask!\"\n",
    "\n",
    "if __name__ == '__main__':\n",
    "    app.run(debug=True)\n"
   ]
  },
  {
   "cell_type": "code",
   "execution_count": null,
   "id": "7ac728d0-de97-43c9-b868-30e3101bf006",
   "metadata": {},
   "outputs": [],
   "source": [
    "#2) How do you serve static files like images or CSS in Flask\n",
    "static/\n",
    "  style.css\n",
    "  image.png\n"
   ]
  },
  {
   "cell_type": "code",
   "execution_count": 6,
   "id": "263f5a4e-07cb-478b-bc91-2fa0eec4793c",
   "metadata": {},
   "outputs": [],
   "source": [
    "#3) How do you define different routes with different HTTP methods in Flask\n",
    "@app.route('/submit', methods=['GET', 'POST'])\n",
    "def submit():\n",
    "    if request.method == 'POST':\n",
    "        return \"Form submitted!\"\n",
    "    return \"Submit Page\"\n"
   ]
  },
  {
   "cell_type": "code",
   "execution_count": null,
   "id": "bf4a5b38-4013-43e5-8162-7e3f7175ad1c",
   "metadata": {},
   "outputs": [],
   "source": [
    "#4)How do you render HTML templates in Flask\n",
    "from flask import render_template\n",
    "\n",
    "@app.route('/home')\n",
    "def home():\n",
    "    return render_template('index.html')\n"
   ]
  },
  {
   "cell_type": "code",
   "execution_count": null,
   "id": "9e7c4ff4-57ca-4b4e-b61f-ed74743e9dd6",
   "metadata": {},
   "outputs": [],
   "source": [
    "#5)How can you generate URLs for routes in Flask using url_for\n",
    "@app.route('/about')\n",
    "def about():\n",
    "    return \"About Page\"\n",
    "\n",
    "@app.route('/')\n",
    "def home():\n",
    "    return redirect(url_for('about'))\n"
   ]
  },
  {
   "cell_type": "code",
   "execution_count": null,
   "id": "bd7c87ee-c550-43af-987c-e751ee9a8b18",
   "metadata": {},
   "outputs": [],
   "source": [
    "#6)How do you handle forms in Flask\n",
    "<!-- templates/form.html -->\n",
    "<form method=\"POST\">\n",
    "    <input type=\"text\" name=\"username\">\n",
    "    <input type=\"submit\">\n",
    "</form>\n"
   ]
  },
  {
   "cell_type": "code",
   "execution_count": null,
   "id": "9d846f3c-95c5-41a1-94fd-edd9fec7c8c7",
   "metadata": {},
   "outputs": [],
   "source": [
    "#7) How can you validate form data in Flask\n",
    "@app.route('/validate', methods=['POST'])\n",
    "def validate():\n",
    "    username = request.form['username']\n",
    "    if not username:\n",
    "        return \"Username is required\"\n",
    "    return \"Valid\"\n"
   ]
  },
  {
   "cell_type": "code",
   "execution_count": null,
   "id": "192e551d-cc7e-45c8-832b-55991bd0dfec",
   "metadata": {},
   "outputs": [],
   "source": [
    "#8)How do you manage sessions in Flask\n",
    "from flask import session\n",
    "\n",
    "app.secret_key = 'your_secret_key'\n",
    "\n",
    "@app.route('/login')\n",
    "def login():\n",
    "    session['user'] = 'admin'\n",
    "    return \"Logged in\"\n",
    "\n",
    "@app.route('/profile')\n",
    "def profile():\n",
    "    user = session.get('user', 'Guest')\n",
    "    return f\"Welcome {user}\"\n"
   ]
  },
  {
   "cell_type": "code",
   "execution_count": null,
   "id": "bb409f3b-7d62-4273-9f45-6b8296f5aafa",
   "metadata": {},
   "outputs": [],
   "source": [
    "#9)How do you redirect to a different route in Flask\n",
    "from flask import redirect, url_for\n",
    "\n",
    "@app.route('/go')\n",
    "def go():\n",
    "    return redirect(url_for('home'))\n"
   ]
  },
  {
   "cell_type": "code",
   "execution_count": null,
   "id": "90040abd-1574-4478-92c7-4fb87d6767f0",
   "metadata": {},
   "outputs": [],
   "source": [
    "#10)How do you handle errors in Flask (e.g., 404)\n",
    "@app.errorhandler(404)\n",
    "def not_found(error):\n",
    "    return \"Page not found\", 404\n"
   ]
  },
  {
   "cell_type": "code",
   "execution_count": null,
   "id": "d99a303d-0d1c-45fd-9f81-a12018b427d6",
   "metadata": {},
   "outputs": [],
   "source": [
    "#11)How do you structure a Flask app using Blueprints\n",
    "from flask import Flask\n",
    "from views import main\n",
    "\n",
    "app = Flask(__name__)\n",
    "app.register_blueprint(main)\n",
    "\n",
    "if __name__ == '__main__':\n",
    "    app.run()\n"
   ]
  },
  {
   "cell_type": "code",
   "execution_count": null,
   "id": "ed14a632-dd0c-4d46-8749-669fdc8bdbce",
   "metadata": {},
   "outputs": [],
   "source": [
    "#12)How do you define a custom Jinja filter in Flask\n",
    "@app.template_filter('capitalize')\n",
    "def capitalize_filter(s):\n",
    "    return s.capitalize()\n"
   ]
  },
  {
   "cell_type": "code",
   "execution_count": null,
   "id": "14c54c7c-3764-4ea9-b24d-1088ad95b54f",
   "metadata": {},
   "outputs": [],
   "source": [
    "#13)How can you redirect with query parameters in Flask\n",
    "@app.route('/search')\n",
    "def search():\n",
    "    return redirect(url_for('result', q='flask'))\n",
    "\n",
    "@app.route('/result')\n",
    "def result():\n",
    "    query = request.args.get('q')\n",
    "    return f\"Search result for {query}\"\n"
   ]
  },
  {
   "cell_type": "code",
   "execution_count": null,
   "id": "e8887854-9f90-4941-b1ec-7cbb7c952f88",
   "metadata": {},
   "outputs": [],
   "source": [
    "#14) How do you return JSON responses in Flask\n",
    "from flask import jsonify\n",
    "\n",
    "@app.route('/api/data')\n",
    "def api_data():\n",
    "    return jsonify({\"name\": \"Flask\", \"version\": \"2.0\"})\n"
   ]
  },
  {
   "cell_type": "code",
   "execution_count": null,
   "id": "b786f9cb-4f33-49f0-850a-6331c7cb1331",
   "metadata": {},
   "outputs": [],
   "source": [
    "#15)\n",
    "@app.route('/user/<username>')\n",
    "def user_profile(username):\n",
    "    return f\"User: {username}\"\n"
   ]
  }
 ],
 "metadata": {
  "kernelspec": {
   "display_name": "Python 3 (ipykernel)",
   "language": "python",
   "name": "python3"
  },
  "language_info": {
   "codemirror_mode": {
    "name": "ipython",
    "version": 3
   },
   "file_extension": ".py",
   "mimetype": "text/x-python",
   "name": "python",
   "nbconvert_exporter": "python",
   "pygments_lexer": "ipython3",
   "version": "3.12.7"
  }
 },
 "nbformat": 4,
 "nbformat_minor": 5
}
